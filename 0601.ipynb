{
  "cells": [
    {
      "cell_type": "markdown",
      "metadata": {
        "id": "view-in-github",
        "colab_type": "text"
      },
      "source": [
        "<a href=\"https://colab.research.google.com/github/Roy920211/introduction-to-computers/blob/main/0601.ipynb\" target=\"_parent\"><img src=\"https://colab.research.google.com/assets/colab-badge.svg\" alt=\"Open In Colab\"/></a>"
      ]
    },
    {
      "cell_type": "markdown",
      "metadata": {
        "id": "ZyyKv8XspJC-"
      },
      "source": [
        "九九乘法表"
      ]
    },
    {
      "cell_type": "code",
      "execution_count": null,
      "metadata": {
        "colab": {
          "base_uri": "https://localhost:8080/"
        },
        "id": "XaJgosqgn9UW",
        "outputId": "6c2ad8a8-92d6-439c-8b26-6d773b39e06a"
      },
      "outputs": [
        {
          "name": "stdout",
          "output_type": "stream",
          "text": [
            "2*1= 2 2*2= 4 2*3= 6 2*4= 8 2*5=10 2*6=12 2*7=14 2*8=16 2*9=18 \n",
            "3*1= 3 3*2= 6 3*3= 9 3*4=12 3*5=15 3*6=18 3*7=21 3*8=24 3*9=27 \n",
            "4*1= 4 4*2= 8 4*3=12 4*4=16 4*5=20 4*6=24 4*7=28 4*8=32 4*9=36 \n",
            "5*1= 5 5*2=10 5*3=15 5*4=20 5*5=25 5*6=30 5*7=35 5*8=40 5*9=45 \n",
            "6*1= 6 6*2=12 6*3=18 6*4=24 6*5=30 6*6=36 6*7=42 6*8=48 6*9=54 \n",
            "7*1= 7 7*2=14 7*3=21 7*4=28 7*5=35 7*6=42 7*7=49 7*8=56 7*9=63 \n",
            "8*1= 8 8*2=16 8*3=24 8*4=32 8*5=40 8*6=48 8*7=56 8*8=64 8*9=72 \n",
            "9*1= 9 9*2=18 9*3=27 9*4=36 9*5=45 9*6=54 9*7=63 9*8=72 9*9=81 \n"
          ]
        }
      ],
      "source": [
        "for i in range(2,10):\n",
        "  for j in range(1,10):\n",
        "    product = i * j\n",
        "    print(\"%d*%d=%2d \" % (i,j,product),end=\"\")\n",
        "  print()"
      ]
    },
    {
      "cell_type": "markdown",
      "metadata": {
        "id": "mlH7ecMtpOoW"
      },
      "source": [
        "最小公倍數"
      ]
    },
    {
      "cell_type": "code",
      "execution_count": null,
      "metadata": {
        "colab": {
          "background_save": true
        },
        "id": "ZJeq9sWrpIAH"
      },
      "outputs": [],
      "source": [
        "a = int(input(\"請輸入a的值: \"))\n",
        "b = int(input(\"請輸入b的值: \"))\n",
        "\n",
        "maxno=a * b\n",
        "for i in range(1, maxno+1):\n",
        "  if(i % a == 0 and i % b == 0):\n",
        "    break\n",
        "print(\"%d和 %d的最小公倍數 = %d\"%(a,b,i)) "
      ]
    },
    {
      "cell_type": "markdown",
      "metadata": {
        "id": "14SKiwwrq4gP"
      },
      "source": [
        "數列排除五"
      ]
    },
    {
      "cell_type": "code",
      "execution_count": null,
      "metadata": {
        "colab": {
          "background_save": true
        },
        "id": "tK9I9b5hq7XO"
      },
      "outputs": [],
      "source": [
        "n = int(input(\"請輸入一個正整數:\"))\n",
        "for i in range(1, n+1):\n",
        "  if i % 5 == 0:\n",
        "    continue\n",
        "  print(i, end=\" \")"
      ]
    },
    {
      "cell_type": "markdown",
      "metadata": {
        "id": "zwa70MT8uFxt"
      },
      "source": [
        "while迴圈"
      ]
    },
    {
      "cell_type": "code",
      "execution_count": null,
      "metadata": {
        "colab": {
          "base_uri": "https://localhost:8080/"
        },
        "id": "MwjwXYYAs0Hn",
        "outputId": "10a7240d-13a9-41bb-8634-443f63e0d2c0"
      },
      "outputs": [
        {
          "name": "stdout",
          "output_type": "stream",
          "text": [
            "55\n"
          ]
        }
      ],
      "source": [
        "total = n = 0\n",
        "while(n < 10):\n",
        "  n += 1\n",
        "  total += n \n",
        "print(total)"
      ]
    },
    {
      "cell_type": "code",
      "execution_count": null,
      "metadata": {
        "colab": {
          "base_uri": "https://localhost:8080/"
        },
        "id": "SpIjAqsOuEUX",
        "outputId": "6317bd30-6038-41b3-e8ce-072b2e98a198"
      },
      "outputs": [
        {
          "name": "stdout",
          "output_type": "stream",
          "text": [
            "55\n"
          ]
        }
      ],
      "source": [
        "total = n = 0\n",
        "while(n <= 10):\n",
        "  total += n\n",
        "  n += 1\n",
        "print(total)"
      ]
    },
    {
      "cell_type": "code",
      "execution_count": null,
      "metadata": {
        "colab": {
          "background_save": true
        },
        "id": "SLZs1P11uype",
        "outputId": "1f746713-b0a7-415d-c237-b1300d190a4a"
      },
      "outputs": [
        {
          "ename": "KeyboardInterrupt",
          "evalue": "ignored",
          "output_type": "error",
          "traceback": [
            "\u001b[0;31m---------------------------------------------------------------------------\u001b[0m",
            "\u001b[0;31mKeyboardInterrupt\u001b[0m                         Traceback (most recent call last)",
            "\u001b[0;32m<ipython-input-33-0549bf36b10c>\u001b[0m in \u001b[0;36m<module>\u001b[0;34m()\u001b[0m\n\u001b[1;32m      1\u001b[0m \u001b[0mtotal\u001b[0m \u001b[0;34m=\u001b[0m \u001b[0mn\u001b[0m \u001b[0;34m=\u001b[0m \u001b[0;36m0\u001b[0m\u001b[0;34m\u001b[0m\u001b[0;34m\u001b[0m\u001b[0m\n\u001b[1;32m      2\u001b[0m \u001b[0;32mwhile\u001b[0m\u001b[0;34m(\u001b[0m\u001b[0mn\u001b[0m\u001b[0;34m<=\u001b[0m \u001b[0;36m10\u001b[0m\u001b[0;34m)\u001b[0m\u001b[0;34m:\u001b[0m\u001b[0;34m\u001b[0m\u001b[0;34m\u001b[0m\u001b[0m\n\u001b[0;32m----> 3\u001b[0;31m   \u001b[0mtotal\u001b[0m \u001b[0;34m+=\u001b[0m \u001b[0mn\u001b[0m\u001b[0;34m\u001b[0m\u001b[0;34m\u001b[0m\u001b[0m\n\u001b[0m\u001b[1;32m      4\u001b[0m \u001b[0mprint\u001b[0m\u001b[0;34m(\u001b[0m\u001b[0mtotal\u001b[0m\u001b[0;34m)\u001b[0m\u001b[0;34m\u001b[0m\u001b[0;34m\u001b[0m\u001b[0m\n",
            "\u001b[0;31mKeyboardInterrupt\u001b[0m: "
          ]
        }
      ],
      "source": [
        "total = n = 0\n",
        "while(n<= 10):\n",
        "  total += n\n",
        "print(total) "
      ]
    },
    {
      "cell_type": "markdown",
      "metadata": {
        "id": "jh5Ix24jvY-F"
      },
      "source": [
        "n!"
      ]
    },
    {
      "cell_type": "code",
      "execution_count": null,
      "metadata": {
        "colab": {
          "base_uri": "https://localhost:8080/"
        },
        "id": "v0cZFYBjvLq-",
        "outputId": "a09e22f3-7ab5-4101-9932-a127f11b0f35"
      },
      "outputs": [
        {
          "name": "stdout",
          "output_type": "stream",
          "text": [
            "請輸入正整數的值:100\n",
            "100!=93326215443944152681699238856266700490715968264381621468592963895217599993229915608941463976156518286253697920827223758251185210916864000000000000000000000000\n"
          ]
        }
      ],
      "source": [
        "total = i = 1\n",
        "n = int(input(\"請輸入正整數的值:\"))\n",
        "while i<=n:\n",
        "  total *= i\n",
        "  i+=1\n",
        "print(\"%d!=%d\" % (n,total))\n"
      ]
    },
    {
      "cell_type": "markdown",
      "metadata": {
        "id": "vICgqKb5yF_9"
      },
      "source": [
        "0-50的奇數和與偶數和"
      ]
    },
    {
      "cell_type": "code",
      "execution_count": null,
      "metadata": {
        "colab": {
          "base_uri": "https://localhost:8080/"
        },
        "id": "Eo8XjYQ9yCql",
        "outputId": "0a583e49-edaa-419d-d760-b32f58042600"
      },
      "outputs": [
        {
          "name": "stdout",
          "output_type": "stream",
          "text": [
            "0~50的偶數和結果是:=650\n",
            "0~50的奇數和結果是:=625\n"
          ]
        }
      ],
      "source": [
        "i = 0\n",
        "even_sum=0\n",
        "odd_sum=0\n",
        "while i<=50:\n",
        "  if i%2==0:\n",
        "    even_sum+=i\n",
        "  else:\n",
        "    odd_sum+=i\n",
        "  i+=1\n",
        "print(\"0~50的偶數和結果是:=%d\" % even_sum)\n",
        "print(\"0~50的奇數和結果是:=%d\" % odd_sum)\n",
        "\n"
      ]
    },
    {
      "cell_type": "markdown",
      "metadata": {
        "id": "N-WvD_MHXNVK"
      },
      "source": [
        "倒三角形"
      ]
    },
    {
      "cell_type": "code",
      "execution_count": null,
      "metadata": {
        "colab": {
          "base_uri": "https://localhost:8080/"
        },
        "id": "3G66iHxYXUIY",
        "outputId": "7983e65c-97b4-47f7-8d3d-33ebee615c8d"
      },
      "outputs": [
        {
          "name": "stdout",
          "output_type": "stream",
          "text": [
            "請輸入正整數: 7\n",
            "*******\n",
            "******\n",
            "*****\n",
            "****\n",
            "***\n",
            "**\n",
            "*\n"
          ]
        }
      ],
      "source": [
        "a = int(input(\"請輸入正整數: \"))\n",
        "for x in range(a):\n",
        "  for i in range(x,a):\n",
        "    print(\"*\",end=\"\")\n",
        "  print(\"\")"
      ]
    },
    {
      "cell_type": "markdown",
      "metadata": {
        "id": "2d23m01EXUwA"
      },
      "source": [
        "1-100 3or7的倍數和"
      ]
    },
    {
      "cell_type": "code",
      "execution_count": null,
      "metadata": {
        "colab": {
          "base_uri": "https://localhost:8080/"
        },
        "id": "RW1UvSyPXcd_",
        "outputId": "355c140f-10d5-4775-f6ab-92cf94555647"
      },
      "outputs": [
        {
          "name": "stdout",
          "output_type": "stream",
          "text": [
            "數值1~100中，所有是3或是7倍數的數之總和=2208\n"
          ]
        }
      ],
      "source": [
        "sum = 0\n",
        "for i in range(1,100):\n",
        "  if i%3==0 or i%7==0:\n",
        "    sum+=i\n",
        "print(\"數值1~100中，所有是3或是7倍數的數之總和=%d\" % sum)\n"
      ]
    },
    {
      "cell_type": "markdown",
      "metadata": {
        "id": "Pl9WKfuVXdDI"
      },
      "source": [
        "該數的因數 是不是質數"
      ]
    },
    {
      "cell_type": "code",
      "execution_count": 62,
      "metadata": {
        "colab": {
          "base_uri": "https://localhost:8080/"
        },
        "id": "9j337kp5XjrX",
        "outputId": "f5b279de-959d-41f9-93e3-2e3522ef4bb6"
      },
      "outputs": [
        {
          "output_type": "stream",
          "name": "stdout",
          "text": [
            "請輸入一個正整數：13\n",
            "13的因數有[1, 13]\n",
            "請輸入一個正整數：13\n",
            "13 是質數\n"
          ]
        }
      ],
      "source": [
        "x = int(input('請輸入一個正整數：')) \n",
        "list1 = [i for i in range(1, int(x)+1)]\n",
        "list2 = list1[::-1]\n",
        "list3 = []\n",
        "count = 0\n",
        "for a in list1:\n",
        "  for b in list2:\n",
        "    if a*b == int(x):\n",
        "      list3.append(a)\n",
        "      count +=1\n",
        "print(f'{x}的因數有{list3}')\n",
        "a = b = int(input('請輸入一個正整數：'))\n",
        "output = ''                          \n",
        "while True:                           \n",
        "    for i in range(2,(a+1)):          \n",
        "        if i==b:                      \n",
        "            break\n",
        "        if a%i==0:                    \n",
        "            output += f'{i}'       \n",
        "            a = int(a/i)              \n",
        "            break                  \n",
        "    if a==1 or a==b:                 \n",
        "        break\n",
        "    else:\n",
        "        output += '*'                \n",
        "if a == b:\n",
        "    print(f'{b} 是質數')              \n",
        "else:\n",
        "    print(f'{b} 不是質數')       "
      ]
    }
  ],
  "metadata": {
    "colab": {
      "name": "0601.ipynb",
      "provenance": [],
      "authorship_tag": "ABX9TyOqxBG5lxEbuXl1QgriUW6d",
      "include_colab_link": true
    },
    "kernelspec": {
      "display_name": "Python 3",
      "name": "python3"
    },
    "language_info": {
      "name": "python"
    }
  },
  "nbformat": 4,
  "nbformat_minor": 0
}